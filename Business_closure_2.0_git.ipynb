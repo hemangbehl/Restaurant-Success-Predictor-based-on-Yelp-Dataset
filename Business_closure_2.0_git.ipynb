{
 "cells": [
  {
   "cell_type": "code",
   "execution_count": 1,
   "metadata": {},
   "outputs": [],
   "source": [
    "import pandas as pd\n",
    "import numpy as np\n",
    "import seaborn as sns\n",
    "import matplotlib.pyplot as plt\n",
    "from sklearn.model_selection  import train_test_split\n",
    "#import xgboost as xgb\n",
    "from xgboost import XGBClassifier\n",
    "from sklearn.linear_model import LogisticRegression\n",
    "from sklearn.naive_bayes import MultinomialNB\n",
    "from sklearn.metrics import confusion_matrix,accuracy_score, f1_score, recall_score,roc_curve,precision_score\n",
    "from imblearn.over_sampling import SMOTE\n",
    "from sklearn.ensemble import RandomForestClassifier\n",
    "from sklearn.svm import LinearSVC\n",
    "from sklearn.neighbors import KNeighborsClassifier"
   ]
  },
  {
   "cell_type": "code",
   "execution_count": 2,
   "metadata": {},
   "outputs": [],
   "source": [
    "bus_data = pd.read_csv('data/yelp_academic_dataset_business.csv')"
   ]
  },
  {
   "cell_type": "code",
   "execution_count": 3,
   "metadata": {},
   "outputs": [
    {
     "data": {
      "text/html": [
       "<div>\n",
       "<style scoped>\n",
       "    .dataframe tbody tr th:only-of-type {\n",
       "        vertical-align: middle;\n",
       "    }\n",
       "\n",
       "    .dataframe tbody tr th {\n",
       "        vertical-align: top;\n",
       "    }\n",
       "\n",
       "    .dataframe thead th {\n",
       "        text-align: right;\n",
       "    }\n",
       "</style>\n",
       "<table border=\"1\" class=\"dataframe\">\n",
       "  <thead>\n",
       "    <tr style=\"text-align: right;\">\n",
       "      <th></th>\n",
       "      <th>attributes.BYOBCorkage</th>\n",
       "      <th>attributes.BusinessParking</th>\n",
       "      <th>hours.Saturday</th>\n",
       "      <th>attributes.RestaurantsCounterService</th>\n",
       "      <th>attributes.DietaryRestrictions</th>\n",
       "      <th>attributes.OutdoorSeating</th>\n",
       "      <th>attributes.Open24Hours</th>\n",
       "      <th>attributes.BestNights</th>\n",
       "      <th>address</th>\n",
       "      <th>attributes.AgesAllowed</th>\n",
       "      <th>...</th>\n",
       "      <th>attributes.RestaurantsAttire</th>\n",
       "      <th>attributes.Ambience</th>\n",
       "      <th>attributes.BusinessAcceptsCreditCards</th>\n",
       "      <th>business_id</th>\n",
       "      <th>attributes.HasTV</th>\n",
       "      <th>attributes.Caters</th>\n",
       "      <th>attributes.BikeParking</th>\n",
       "      <th>attributes.Alcohol</th>\n",
       "      <th>attributes.DriveThru</th>\n",
       "      <th>hours.Monday</th>\n",
       "    </tr>\n",
       "  </thead>\n",
       "  <tbody>\n",
       "    <tr>\n",
       "      <th>0</th>\n",
       "      <td>NaN</td>\n",
       "      <td>{'garage': False, 'street': True, 'validated':...</td>\n",
       "      <td>11:0-21:0</td>\n",
       "      <td>NaN</td>\n",
       "      <td>NaN</td>\n",
       "      <td>False</td>\n",
       "      <td>NaN</td>\n",
       "      <td>NaN</td>\n",
       "      <td>1314 44 Avenue NE</td>\n",
       "      <td>NaN</td>\n",
       "      <td>...</td>\n",
       "      <td>casual</td>\n",
       "      <td>NaN</td>\n",
       "      <td>True</td>\n",
       "      <td>Apn5Q_b6Nz61Tq4XzPdf9A</td>\n",
       "      <td>True</td>\n",
       "      <td>NaN</td>\n",
       "      <td>False</td>\n",
       "      <td>NaN</td>\n",
       "      <td>NaN</td>\n",
       "      <td>8:30-17:0</td>\n",
       "    </tr>\n",
       "    <tr>\n",
       "      <th>1</th>\n",
       "      <td>NaN</td>\n",
       "      <td>{'garage': False, 'street': True, 'validated':...</td>\n",
       "      <td>17:0-23:0</td>\n",
       "      <td>NaN</td>\n",
       "      <td>NaN</td>\n",
       "      <td>True</td>\n",
       "      <td>NaN</td>\n",
       "      <td>NaN</td>\n",
       "      <td>NaN</td>\n",
       "      <td>NaN</td>\n",
       "      <td>...</td>\n",
       "      <td>casual</td>\n",
       "      <td>NaN</td>\n",
       "      <td>True</td>\n",
       "      <td>AjEbIBw6ZFfln7ePHha9PA</td>\n",
       "      <td>False</td>\n",
       "      <td>True</td>\n",
       "      <td>False</td>\n",
       "      <td>none</td>\n",
       "      <td>False</td>\n",
       "      <td>NaN</td>\n",
       "    </tr>\n",
       "    <tr>\n",
       "      <th>2</th>\n",
       "      <td>NaN</td>\n",
       "      <td>{'garage': False, 'street': False, 'validated'...</td>\n",
       "      <td>10:0-22:0</td>\n",
       "      <td>NaN</td>\n",
       "      <td>NaN</td>\n",
       "      <td>False</td>\n",
       "      <td>NaN</td>\n",
       "      <td>NaN</td>\n",
       "      <td>1335 rue Beaubien E</td>\n",
       "      <td>NaN</td>\n",
       "      <td>...</td>\n",
       "      <td>casual</td>\n",
       "      <td>{'romantic': False, 'intimate': False, 'classy...</td>\n",
       "      <td>False</td>\n",
       "      <td>O8S5hYJ1SMc8fA4QBtVujA</td>\n",
       "      <td>True</td>\n",
       "      <td>False</td>\n",
       "      <td>True</td>\n",
       "      <td>beer_and_wine</td>\n",
       "      <td>NaN</td>\n",
       "      <td>10:0-22:0</td>\n",
       "    </tr>\n",
       "    <tr>\n",
       "      <th>3</th>\n",
       "      <td>NaN</td>\n",
       "      <td>NaN</td>\n",
       "      <td>NaN</td>\n",
       "      <td>NaN</td>\n",
       "      <td>NaN</td>\n",
       "      <td>NaN</td>\n",
       "      <td>NaN</td>\n",
       "      <td>NaN</td>\n",
       "      <td>211 W Monroe St</td>\n",
       "      <td>NaN</td>\n",
       "      <td>...</td>\n",
       "      <td>NaN</td>\n",
       "      <td>NaN</td>\n",
       "      <td>NaN</td>\n",
       "      <td>bFzdJJ3wp3PZssNEsyU23g</td>\n",
       "      <td>NaN</td>\n",
       "      <td>NaN</td>\n",
       "      <td>NaN</td>\n",
       "      <td>NaN</td>\n",
       "      <td>NaN</td>\n",
       "      <td>NaN</td>\n",
       "    </tr>\n",
       "    <tr>\n",
       "      <th>4</th>\n",
       "      <td>NaN</td>\n",
       "      <td>NaN</td>\n",
       "      <td>NaN</td>\n",
       "      <td>NaN</td>\n",
       "      <td>NaN</td>\n",
       "      <td>NaN</td>\n",
       "      <td>NaN</td>\n",
       "      <td>NaN</td>\n",
       "      <td>2005 Alyth Place SE</td>\n",
       "      <td>NaN</td>\n",
       "      <td>...</td>\n",
       "      <td>NaN</td>\n",
       "      <td>NaN</td>\n",
       "      <td>True</td>\n",
       "      <td>8USyCYqpScwiNEb58Bt6CA</td>\n",
       "      <td>NaN</td>\n",
       "      <td>NaN</td>\n",
       "      <td>NaN</td>\n",
       "      <td>NaN</td>\n",
       "      <td>NaN</td>\n",
       "      <td>8:0-17:0</td>\n",
       "    </tr>\n",
       "  </tbody>\n",
       "</table>\n",
       "<p>5 rows × 61 columns</p>\n",
       "</div>"
      ],
      "text/plain": [
       "  attributes.BYOBCorkage                         attributes.BusinessParking  \\\n",
       "0                    NaN  {'garage': False, 'street': True, 'validated':...   \n",
       "1                    NaN  {'garage': False, 'street': True, 'validated':...   \n",
       "2                    NaN  {'garage': False, 'street': False, 'validated'...   \n",
       "3                    NaN                                                NaN   \n",
       "4                    NaN                                                NaN   \n",
       "\n",
       "  hours.Saturday attributes.RestaurantsCounterService  \\\n",
       "0      11:0-21:0                                  NaN   \n",
       "1      17:0-23:0                                  NaN   \n",
       "2      10:0-22:0                                  NaN   \n",
       "3            NaN                                  NaN   \n",
       "4            NaN                                  NaN   \n",
       "\n",
       "  attributes.DietaryRestrictions attributes.OutdoorSeating  \\\n",
       "0                            NaN                     False   \n",
       "1                            NaN                      True   \n",
       "2                            NaN                     False   \n",
       "3                            NaN                       NaN   \n",
       "4                            NaN                       NaN   \n",
       "\n",
       "  attributes.Open24Hours attributes.BestNights              address  \\\n",
       "0                    NaN                   NaN    1314 44 Avenue NE   \n",
       "1                    NaN                   NaN                  NaN   \n",
       "2                    NaN                   NaN  1335 rue Beaubien E   \n",
       "3                    NaN                   NaN      211 W Monroe St   \n",
       "4                    NaN                   NaN  2005 Alyth Place SE   \n",
       "\n",
       "  attributes.AgesAllowed      ...      attributes.RestaurantsAttire  \\\n",
       "0                    NaN      ...                            casual   \n",
       "1                    NaN      ...                            casual   \n",
       "2                    NaN      ...                            casual   \n",
       "3                    NaN      ...                               NaN   \n",
       "4                    NaN      ...                               NaN   \n",
       "\n",
       "                                 attributes.Ambience  \\\n",
       "0                                                NaN   \n",
       "1                                                NaN   \n",
       "2  {'romantic': False, 'intimate': False, 'classy...   \n",
       "3                                                NaN   \n",
       "4                                                NaN   \n",
       "\n",
       "   attributes.BusinessAcceptsCreditCards             business_id  \\\n",
       "0                                   True  Apn5Q_b6Nz61Tq4XzPdf9A   \n",
       "1                                   True  AjEbIBw6ZFfln7ePHha9PA   \n",
       "2                                  False  O8S5hYJ1SMc8fA4QBtVujA   \n",
       "3                                    NaN  bFzdJJ3wp3PZssNEsyU23g   \n",
       "4                                   True  8USyCYqpScwiNEb58Bt6CA   \n",
       "\n",
       "   attributes.HasTV attributes.Caters attributes.BikeParking  \\\n",
       "0              True               NaN                  False   \n",
       "1             False              True                  False   \n",
       "2              True             False                   True   \n",
       "3               NaN               NaN                    NaN   \n",
       "4               NaN               NaN                    NaN   \n",
       "\n",
       "  attributes.Alcohol attributes.DriveThru  hours.Monday  \n",
       "0                NaN                  NaN     8:30-17:0  \n",
       "1               none                False           NaN  \n",
       "2      beer_and_wine                  NaN     10:0-22:0  \n",
       "3                NaN                  NaN           NaN  \n",
       "4                NaN                  NaN      8:0-17:0  \n",
       "\n",
       "[5 rows x 61 columns]"
      ]
     },
     "execution_count": 3,
     "metadata": {},
     "output_type": "execute_result"
    }
   ],
   "source": [
    "bus_data.head()"
   ]
  },
  {
   "cell_type": "code",
   "execution_count": 4,
   "metadata": {
    "scrolled": true
   },
   "outputs": [
    {
     "data": {
      "text/plain": [
       "attributes.BYOBCorkage                   187184\n",
       "attributes.BusinessParking                85169\n",
       "hours.Saturday                            63217\n",
       "attributes.RestaurantsCounterService     188196\n",
       "attributes.DietaryRestrictions           188455\n",
       "attributes.OutdoorSeating                134412\n",
       "attributes.Open24Hours                   188241\n",
       "attributes.BestNights                    181749\n",
       "address                                    7623\n",
       "attributes.AgesAllowed                   188196\n",
       "attributes.DogsAllowed                   174912\n",
       "state                                         0\n",
       "is_open                                       0\n",
       "attributes.ByAppointmentOnly             143170\n",
       "attributes.RestaurantsPriceRange2         81473\n",
       "attributes.WheelchairAccessible          136570\n",
       "attributes.Smoking                       180480\n",
       "attributes.GoodForDancing                179431\n",
       "hours.Wednesday                           46750\n",
       "review_count                                  0\n",
       "city                                         10\n",
       "hours.Sunday                              95206\n",
       "latitude                                      6\n",
       "attributes.HairSpecializesIn             186712\n",
       "attributes.WiFi                          139567\n",
       "attributes.AcceptsInsurance              176922\n",
       "attributes.NoiseLevel                    144883\n",
       "attributes.Music                         179786\n",
       "attributes.CoatCheck                     180062\n",
       "postal_code                                 681\n",
       "                                          ...  \n",
       "neighborhood                             119938\n",
       "attributes.GoodForMeal                   141110\n",
       "attributes.RestaurantsDelivery           136925\n",
       "hours.Thursday                            46234\n",
       "stars                                         0\n",
       "attributes.HappyHour                     179308\n",
       "attributes.RestaurantsTableService       145268\n",
       "attributes.GoodForKids                   123662\n",
       "hours.Tuesday                             47986\n",
       "attributes.BusinessAcceptsBitcoin        175919\n",
       "attributes.RestaurantsReservations       137230\n",
       "longitude                                     6\n",
       "hours                                     44802\n",
       "attributes.RestaurantsGoodForGroups      134754\n",
       "attributes.BYOB                          187682\n",
       "attributes                                25786\n",
       "name                                          0\n",
       "categories                                  541\n",
       "attributes.RestaurantsTakeOut            127387\n",
       "hours.Friday                              46797\n",
       "attributes.RestaurantsAttire             140411\n",
       "attributes.Ambience                      141016\n",
       "attributes.BusinessAcceptsCreditCards     48202\n",
       "business_id                                   0\n",
       "attributes.HasTV                         141060\n",
       "attributes.Caters                        148555\n",
       "attributes.BikeParking                   103702\n",
       "attributes.Alcohol                       140701\n",
       "attributes.DriveThru                     181839\n",
       "hours.Monday                              55832\n",
       "Length: 61, dtype: int64"
      ]
     },
     "execution_count": 4,
     "metadata": {},
     "output_type": "execute_result"
    }
   ],
   "source": [
    "bus_data.isnull().sum()"
   ]
  },
  {
   "cell_type": "code",
   "execution_count": 5,
   "metadata": {},
   "outputs": [
    {
     "data": {
      "text/plain": [
       "Index(['attributes.BYOBCorkage', 'attributes.BusinessParking',\n",
       "       'hours.Saturday', 'attributes.RestaurantsCounterService',\n",
       "       'attributes.DietaryRestrictions', 'attributes.OutdoorSeating',\n",
       "       'attributes.Open24Hours', 'attributes.BestNights', 'address',\n",
       "       'attributes.AgesAllowed', 'attributes.DogsAllowed', 'state', 'is_open',\n",
       "       'attributes.ByAppointmentOnly', 'attributes.RestaurantsPriceRange2',\n",
       "       'attributes.WheelchairAccessible', 'attributes.Smoking',\n",
       "       'attributes.GoodForDancing', 'hours.Wednesday', 'review_count', 'city',\n",
       "       'hours.Sunday', 'latitude', 'attributes.HairSpecializesIn',\n",
       "       'attributes.WiFi', 'attributes.AcceptsInsurance',\n",
       "       'attributes.NoiseLevel', 'attributes.Music', 'attributes.CoatCheck',\n",
       "       'postal_code', 'attributes.Corkage', 'neighborhood',\n",
       "       'attributes.GoodForMeal', 'attributes.RestaurantsDelivery',\n",
       "       'hours.Thursday', 'stars', 'attributes.HappyHour',\n",
       "       'attributes.RestaurantsTableService', 'attributes.GoodForKids',\n",
       "       'hours.Tuesday', 'attributes.BusinessAcceptsBitcoin',\n",
       "       'attributes.RestaurantsReservations', 'longitude', 'hours',\n",
       "       'attributes.RestaurantsGoodForGroups', 'attributes.BYOB', 'attributes',\n",
       "       'name', 'categories', 'attributes.RestaurantsTakeOut', 'hours.Friday',\n",
       "       'attributes.RestaurantsAttire', 'attributes.Ambience',\n",
       "       'attributes.BusinessAcceptsCreditCards', 'business_id',\n",
       "       'attributes.HasTV', 'attributes.Caters', 'attributes.BikeParking',\n",
       "       'attributes.Alcohol', 'attributes.DriveThru', 'hours.Monday'],\n",
       "      dtype='object')"
      ]
     },
     "execution_count": 5,
     "metadata": {},
     "output_type": "execute_result"
    }
   ],
   "source": [
    "bus_data.columns"
   ]
  },
  {
   "cell_type": "code",
   "execution_count": 6,
   "metadata": {},
   "outputs": [
    {
     "data": {
      "text/plain": [
       "1    156606\n",
       "0     31987\n",
       "Name: is_open, dtype: int64"
      ]
     },
     "execution_count": 6,
     "metadata": {},
     "output_type": "execute_result"
    }
   ],
   "source": [
    "bus_data['is_open'].value_counts()"
   ]
  },
  {
   "cell_type": "code",
   "execution_count": 7,
   "metadata": {},
   "outputs": [
    {
     "data": {
      "image/png": "[encoded data removed]",
      "text/plain": [
       "<Figure size 432x288 with 1 Axes>"
      ]
     },
     "metadata": {
      "needs_background": "light"
     },
     "output_type": "display_data"
    }
   ],
   "source": [
    "plt.bar(['Open','Closed'],bus_data['is_open'].value_counts() )\n",
    "plt.title(\"No. of businesses closed/open\")\n",
    "plt.ylabel('No. of businesses')\n",
    "plt.xlabel('Status ')\n",
    "plt.show()"
   ]
  },
  {
   "cell_type": "code",
   "execution_count": 8,
   "metadata": {},
   "outputs": [
    {
     "data": {
      "text/plain": [
       "9"
      ]
     },
     "execution_count": 8,
     "metadata": {},
     "output_type": "execute_result"
    }
   ],
   "source": [
    "bus_data['stars'].nunique()"
   ]
  },
  {
   "cell_type": "code",
   "execution_count": 9,
   "metadata": {},
   "outputs": [
    {
     "data": {
      "text/plain": [
       "69"
      ]
     },
     "execution_count": 9,
     "metadata": {},
     "output_type": "execute_result"
    }
   ],
   "source": [
    "bus_data['state'].nunique()"
   ]
  },
  {
   "cell_type": "code",
   "execution_count": 10,
   "metadata": {},
   "outputs": [
    {
     "data": {
      "text/plain": [
       "541"
      ]
     },
     "execution_count": 10,
     "metadata": {},
     "output_type": "execute_result"
    }
   ],
   "source": [
    "bus_data['categories'].isnull().sum()"
   ]
  },
  {
   "cell_type": "code",
   "execution_count": 11,
   "metadata": {
    "scrolled": true
   },
   "outputs": [
    {
     "data": {
      "text/plain": [
       "0         Tours, Breweries, Pizza, Restaurants, Food, Ho...\n",
       "1         Chicken Wings, Burgers, Caterers, Street Vendo...\n",
       "2         Breakfast & Brunch, Restaurants, French, Sandw...\n",
       "3                             Insurance, Financial Services\n",
       "4         Home & Garden, Nurseries & Gardening, Shopping...\n",
       "5                                        Coffee & Tea, Food\n",
       "6                                            Food, Bakeries\n",
       "7                                         Restaurants, Thai\n",
       "8                                      Mexican, Restaurants\n",
       "9                     Flowers & Gifts, Gift Shops, Shopping\n",
       "10                                    Restaurants, Japanese\n",
       "11                      Cajun/Creole, Southern, Restaurants\n",
       "12        Bars, Sports Bars, Dive Bars, Burgers, Nightli...\n",
       "13           Restaurants, Pakistani, Indian, Middle Eastern\n",
       "14                                   Beauty & Spas, Barbers\n",
       "15                           Delis, Restaurants, Sandwiches\n",
       "16        Nightlife, Bars, American (Traditional), Tapas...\n",
       "17                     Shopping, Fashion, Department Stores\n",
       "18        Financial Services, Check Cashing/Pay-day Loan...\n",
       "19        American (Traditional), Food, Bakeries, Restau...\n",
       "20        Home Services, Masonry/Concrete, Professional ...\n",
       "21                          Fast Food, Burgers, Restaurants\n",
       "22        Nightlife, Bars, American (Traditional), Sport...\n",
       "23                             Food, Bakeries, Coffee & Tea\n",
       "24                                     Mexican, Restaurants\n",
       "25                                     Mexican, Restaurants\n",
       "26         Home Services, Home Automation, Security Systems\n",
       "27          Restaurants, Food, Canadian (New), Coffee & Tea\n",
       "28        Optometrists, Shopping, Eyewear & Opticians, H...\n",
       "29                                       Pizza, Restaurants\n",
       "                                ...                        \n",
       "188563                       Barbeque, Restaurants, Chinese\n",
       "188564                           Nail Salons, Beauty & Spas\n",
       "188565    Local Services, Professional Services, Carpet ...\n",
       "188566    Eyewear & Opticians, Leather Goods, Shopping, ...\n",
       "188567           Delis, Restaurants, American (Traditional)\n",
       "188568                         Self Storage, Local Services\n",
       "188569    Hair Stylists, Hair Extensions, Hair Salons, B...\n",
       "188570    Nightlife, Bars, Shopping, Tobacco Shops, Cock...\n",
       "188571                Chicken Wings, Fast Food, Restaurants\n",
       "188572             Beer Bar, Cocktail Bars, Nightlife, Bars\n",
       "188573                Performing Arts, Arts & Entertainment\n",
       "188574    Active Life, Arts & Entertainment, Nightlife, ...\n",
       "188575    Music & DVDs, Books, Mags, Music & Video, Shop...\n",
       "188576             Shopping, Hardware Stores, Home & Garden\n",
       "188577    American (Traditional), American (New), Restau...\n",
       "188578    Hair Removal, Eyebrow Services, Beauty & Spas,...\n",
       "188579    Banks & Credit Unions, Financial Services, Rea...\n",
       "188580    Kitchen & Bath, Building Supplies, Home Servic...\n",
       "188581    Pet Groomers, Pets, Veterinarians, Pet Sitting...\n",
       "188582    Automotive, Body Shops, Auto Repair, Oil Chang...\n",
       "188583    Beauty & Spas, Nail Salons, Active Life, Gyms,...\n",
       "188584    Beauty & Spas, Nail Salons, Hair Removal, Waxi...\n",
       "188585    Massage, Health & Medical, Yoga, Doulas, Activ...\n",
       "188586    Restaurants, Indian, Caterers, Event Planning ...\n",
       "188587            Auto Repair, Used Car Dealers, Automotive\n",
       "188588          Skin Care, Beauty & Spas, Day Spas, Massage\n",
       "188589    Fashion, Women's Clothing, Accessories, Bridal...\n",
       "188590    Mobile Phones, Shopping, Department Stores, Fo...\n",
       "188591    Event Planning & Services, Hotels & Travel, Ho...\n",
       "188592    Makeup Artists, Men's Clothing, Swimwear, Shop...\n",
       "Name: categories, Length: 188052, dtype: object"
      ]
     },
     "execution_count": 11,
     "metadata": {},
     "output_type": "execute_result"
    }
   ],
   "source": [
    "bus_data[bus_data.categories.notnull()]['categories']"
   ]
  },
  {
   "cell_type": "code",
   "execution_count": 12,
   "metadata": {},
   "outputs": [
    {
     "data": {
      "text/plain": [
       "nan"
      ]
     },
     "execution_count": 12,
     "metadata": {},
     "output_type": "execute_result"
    }
   ],
   "source": [
    "bus_data['categories'][288]"
   ]
  },
  {
   "cell_type": "code",
   "execution_count": 13,
   "metadata": {},
   "outputs": [],
   "source": [
    "#cats_df.iloc[0:20,1]"
   ]
  },
  {
   "cell_type": "code",
   "execution_count": 14,
   "metadata": {},
   "outputs": [],
   "source": [
    "#categ.category.value_counts()\n",
    "#categ = categ.apply(lambda x: x.str.strip() if x.dtype == \"object\" else x)"
   ]
  },
  {
   "cell_type": "code",
   "execution_count": 15,
   "metadata": {},
   "outputs": [],
   "source": [
    "#categ.category.value_counts()"
   ]
  },
  {
   "cell_type": "code",
   "execution_count": 16,
   "metadata": {},
   "outputs": [
    {
     "data": {
      "text/plain": [
       "\"\\nbusiness_category=';'.join(bus_data[bus_data.categories.notnull()]['categories'])\\ncateg = pd.DataFrame(business_category.split(';'), columns=['category'])\\ncats_ser = categ.category.value_counts()\\n\\ncats_df = pd.DataFrame(cats_ser)\\ncats_df.reset_index(inplace=True)\\n\\nplt.figure(figsize=(15,10))\\nplt.barh(  cats_df.iloc[0:20,0]  ,cats_df.iloc[0:20,1])\\n\""
      ]
     },
     "execution_count": 16,
     "metadata": {},
     "output_type": "execute_result"
    }
   ],
   "source": [
    "'''\n",
    "business_category=';'.join(bus_data[bus_data.categories.notnull()]['categories'])\n",
    "categ = pd.DataFrame(business_category.split(';'), columns=['category'])\n",
    "cats_ser = categ.category.value_counts()\n",
    "\n",
    "cats_df = pd.DataFrame(cats_ser)\n",
    "cats_df.reset_index(inplace=True)\n",
    "\n",
    "plt.figure(figsize=(15,10))\n",
    "plt.barh(  cats_df.iloc[0:20,0]  ,cats_df.iloc[0:20,1])\n",
    "'''"
   ]
  },
  {
   "cell_type": "code",
   "execution_count": 17,
   "metadata": {},
   "outputs": [
    {
     "data": {
      "text/plain": [
       "<BarContainer object of 20 artists>"
      ]
     },
     "execution_count": 17,
     "metadata": {},
     "output_type": "execute_result"
    },
    {
     "data": {
      "image/png": "[encoded data removed]",
      "text/plain": [
       "<Figure size 1080x720 with 1 Axes>"
      ]
     },
     "metadata": {
      "needs_background": "light"
     },
     "output_type": "display_data"
    }
   ],
   "source": [
    "business_category=','.join(bus_data[bus_data.categories.notnull()]['categories'])\n",
    "categ = pd.DataFrame(business_category.split(','), columns=['category'])\n",
    "categ = categ.apply(lambda x: x.str.strip() if x.dtype == \"object\" else x)\n",
    "cats_ser = categ.category.value_counts()\n",
    "\n",
    "cats_df = pd.DataFrame(cats_ser)\n",
    "cats_df.reset_index(inplace=True)\n",
    "\n",
    "plt.figure(figsize=(15,10))\n",
    "plt.barh(  cats_df.iloc[0:20,0]  ,cats_df.iloc[0:20,1])"
   ]
  },
  {
   "cell_type": "markdown",
   "metadata": {},
   "source": [
    "#### Get Dataset ready to feed to model"
   ]
  },
  {
   "cell_type": "code",
   "execution_count": 18,
   "metadata": {},
   "outputs": [],
   "source": [
    "#select columns to use\n",
    "cols_to_use = [ 'stars',  'review_count']"
   ]
  },
  {
   "cell_type": "code",
   "execution_count": 19,
   "metadata": {},
   "outputs": [
    {
     "name": "stdout",
     "output_type": "stream",
     "text": [
      "Wall time: 1min 6s\n"
     ]
    }
   ],
   "source": [
    "%%time\n",
    "#read user file\n",
    "review_data = pd.read_csv(\"data/yelp_academic_dataset_review.csv\")"
   ]
  },
  {
   "cell_type": "code",
   "execution_count": 20,
   "metadata": {},
   "outputs": [
    {
     "data": {
      "text/html": [
       "<div>\n",
       "<style scoped>\n",
       "    .dataframe tbody tr th:only-of-type {\n",
       "        vertical-align: middle;\n",
       "    }\n",
       "\n",
       "    .dataframe tbody tr th {\n",
       "        vertical-align: top;\n",
       "    }\n",
       "\n",
       "    .dataframe thead th {\n",
       "        text-align: right;\n",
       "    }\n",
       "</style>\n",
       "<table border=\"1\" class=\"dataframe\">\n",
       "  <thead>\n",
       "    <tr style=\"text-align: right;\">\n",
       "      <th></th>\n",
       "      <th>funny</th>\n",
       "      <th>review_id</th>\n",
       "      <th>useful</th>\n",
       "      <th>business_id</th>\n",
       "      <th>user_id</th>\n",
       "      <th>text</th>\n",
       "      <th>date</th>\n",
       "      <th>stars</th>\n",
       "      <th>cool</th>\n",
       "    </tr>\n",
       "  </thead>\n",
       "  <tbody>\n",
       "    <tr>\n",
       "      <th>0</th>\n",
       "      <td>0</td>\n",
       "      <td>x7mDIiDB3jEiPGPHOmDzyw</td>\n",
       "      <td>0</td>\n",
       "      <td>iCQpiavjjPzJ5_3gPD5Ebg</td>\n",
       "      <td>msQe1u7Z_XuqjGoqhB0J5g</td>\n",
       "      <td>The pizza was okay. Not the best I've had. I p...</td>\n",
       "      <td>2011-02-25</td>\n",
       "      <td>2</td>\n",
       "      <td>0</td>\n",
       "    </tr>\n",
       "    <tr>\n",
       "      <th>1</th>\n",
       "      <td>0</td>\n",
       "      <td>dDl8zu1vWPdKGihJrwQbpw</td>\n",
       "      <td>0</td>\n",
       "      <td>pomGBqfbxcqPv14c3XH-ZQ</td>\n",
       "      <td>msQe1u7Z_XuqjGoqhB0J5g</td>\n",
       "      <td>I love this place! My fiance And I go here atl...</td>\n",
       "      <td>2012-11-13</td>\n",
       "      <td>5</td>\n",
       "      <td>0</td>\n",
       "    </tr>\n",
       "    <tr>\n",
       "      <th>2</th>\n",
       "      <td>1</td>\n",
       "      <td>LZp4UX5zK3e-c5ZGSeo3kA</td>\n",
       "      <td>3</td>\n",
       "      <td>jtQARsP6P-LbkyjbO1qNGg</td>\n",
       "      <td>msQe1u7Z_XuqjGoqhB0J5g</td>\n",
       "      <td>Terrible. Dry corn bread. Rib tips were all fa...</td>\n",
       "      <td>2014-10-23</td>\n",
       "      <td>1</td>\n",
       "      <td>1</td>\n",
       "    </tr>\n",
       "    <tr>\n",
       "      <th>3</th>\n",
       "      <td>0</td>\n",
       "      <td>Er4NBWCmCD4nM8_p1GRdow</td>\n",
       "      <td>2</td>\n",
       "      <td>elqbBhBfElMNSrjFqW3now</td>\n",
       "      <td>msQe1u7Z_XuqjGoqhB0J5g</td>\n",
       "      <td>Back in 2005-2007 this place was my FAVORITE t...</td>\n",
       "      <td>2011-02-25</td>\n",
       "      <td>2</td>\n",
       "      <td>0</td>\n",
       "    </tr>\n",
       "    <tr>\n",
       "      <th>4</th>\n",
       "      <td>0</td>\n",
       "      <td>jsDu6QEJHbwP2Blom1PLCA</td>\n",
       "      <td>0</td>\n",
       "      <td>Ums3gaP2qM3W1XcA5r6SsQ</td>\n",
       "      <td>msQe1u7Z_XuqjGoqhB0J5g</td>\n",
       "      <td>Delicious healthy food. The steak is amazing. ...</td>\n",
       "      <td>2014-09-05</td>\n",
       "      <td>5</td>\n",
       "      <td>0</td>\n",
       "    </tr>\n",
       "  </tbody>\n",
       "</table>\n",
       "</div>"
      ],
      "text/plain": [
       "   funny               review_id  useful             business_id  \\\n",
       "0      0  x7mDIiDB3jEiPGPHOmDzyw       0  iCQpiavjjPzJ5_3gPD5Ebg   \n",
       "1      0  dDl8zu1vWPdKGihJrwQbpw       0  pomGBqfbxcqPv14c3XH-ZQ   \n",
       "2      1  LZp4UX5zK3e-c5ZGSeo3kA       3  jtQARsP6P-LbkyjbO1qNGg   \n",
       "3      0  Er4NBWCmCD4nM8_p1GRdow       2  elqbBhBfElMNSrjFqW3now   \n",
       "4      0  jsDu6QEJHbwP2Blom1PLCA       0  Ums3gaP2qM3W1XcA5r6SsQ   \n",
       "\n",
       "                  user_id                                               text  \\\n",
       "0  msQe1u7Z_XuqjGoqhB0J5g  The pizza was okay. Not the best I've had. I p...   \n",
       "1  msQe1u7Z_XuqjGoqhB0J5g  I love this place! My fiance And I go here atl...   \n",
       "2  msQe1u7Z_XuqjGoqhB0J5g  Terrible. Dry corn bread. Rib tips were all fa...   \n",
       "3  msQe1u7Z_XuqjGoqhB0J5g  Back in 2005-2007 this place was my FAVORITE t...   \n",
       "4  msQe1u7Z_XuqjGoqhB0J5g  Delicious healthy food. The steak is amazing. ...   \n",
       "\n",
       "         date  stars  cool  \n",
       "0  2011-02-25      2     0  \n",
       "1  2012-11-13      5     0  \n",
       "2  2014-10-23      1     1  \n",
       "3  2011-02-25      2     0  \n",
       "4  2014-09-05      5     0  "
      ]
     },
     "execution_count": 20,
     "metadata": {},
     "output_type": "execute_result"
    }
   ],
   "source": [
    "review_data.head()"
   ]
  },
  {
   "cell_type": "code",
   "execution_count": 21,
   "metadata": {},
   "outputs": [],
   "source": [
    "review_data_2 = review_data.groupby(by='business_id')\n",
    "\n",
    "review_data_3 = pd.DataFrame()\n",
    "review_data_3['MeanStars'] = review_data_2['stars'].mean()\n",
    "review_data_3['MedianStars'] = review_data_2['stars'].median()\n",
    "review_data_3['countReviews'] = review_data_2['stars'].count()"
   ]
  },
  {
   "cell_type": "code",
   "execution_count": 22,
   "metadata": {},
   "outputs": [
    {
     "data": {
      "text/html": [
       "<div>\n",
       "<style scoped>\n",
       "    .dataframe tbody tr th:only-of-type {\n",
       "        vertical-align: middle;\n",
       "    }\n",
       "\n",
       "    .dataframe tbody tr th {\n",
       "        vertical-align: top;\n",
       "    }\n",
       "\n",
       "    .dataframe thead th {\n",
       "        text-align: right;\n",
       "    }\n",
       "</style>\n",
       "<table border=\"1\" class=\"dataframe\">\n",
       "  <thead>\n",
       "    <tr style=\"text-align: right;\">\n",
       "      <th></th>\n",
       "      <th>MeanStars</th>\n",
       "      <th>MedianStars</th>\n",
       "      <th>countReviews</th>\n",
       "    </tr>\n",
       "    <tr>\n",
       "      <th>business_id</th>\n",
       "      <th></th>\n",
       "      <th></th>\n",
       "      <th></th>\n",
       "    </tr>\n",
       "  </thead>\n",
       "  <tbody>\n",
       "    <tr>\n",
       "      <th>--1UhMGODdWsrMastO9DZw</th>\n",
       "      <td>4.041667</td>\n",
       "      <td>4.5</td>\n",
       "      <td>24</td>\n",
       "    </tr>\n",
       "    <tr>\n",
       "      <th>--6MefnULPED_I942VcFNA</th>\n",
       "      <td>3.128205</td>\n",
       "      <td>3.0</td>\n",
       "      <td>39</td>\n",
       "    </tr>\n",
       "    <tr>\n",
       "      <th>--7zmmkVg-IMGaXbuVd0SQ</th>\n",
       "      <td>3.870370</td>\n",
       "      <td>4.0</td>\n",
       "      <td>54</td>\n",
       "    </tr>\n",
       "    <tr>\n",
       "      <th>--8LPVSo5i0Oo61X01sV9A</th>\n",
       "      <td>3.500000</td>\n",
       "      <td>4.0</td>\n",
       "      <td>4</td>\n",
       "    </tr>\n",
       "    <tr>\n",
       "      <th>--9QQLMTbFzLJ_oT-ON3Xw</th>\n",
       "      <td>3.545455</td>\n",
       "      <td>5.0</td>\n",
       "      <td>11</td>\n",
       "    </tr>\n",
       "  </tbody>\n",
       "</table>\n",
       "</div>"
      ],
      "text/plain": [
       "                        MeanStars  MedianStars  countReviews\n",
       "business_id                                                 \n",
       "--1UhMGODdWsrMastO9DZw   4.041667          4.5            24\n",
       "--6MefnULPED_I942VcFNA   3.128205          3.0            39\n",
       "--7zmmkVg-IMGaXbuVd0SQ   3.870370          4.0            54\n",
       "--8LPVSo5i0Oo61X01sV9A   3.500000          4.0             4\n",
       "--9QQLMTbFzLJ_oT-ON3Xw   3.545455          5.0            11"
      ]
     },
     "execution_count": 22,
     "metadata": {},
     "output_type": "execute_result"
    }
   ],
   "source": [
    "review_data_3.head()"
   ]
  },
  {
   "cell_type": "code",
   "execution_count": 23,
   "metadata": {},
   "outputs": [],
   "source": [
    "#read checkin data\n",
    "#read file\n",
    "check_in_data = pd.read_csv (\"data/checkin_modified_all.csv\")"
   ]
  },
  {
   "cell_type": "code",
   "execution_count": 24,
   "metadata": {},
   "outputs": [
    {
     "data": {
      "text/html": [
       "<div>\n",
       "<style scoped>\n",
       "    .dataframe tbody tr th:only-of-type {\n",
       "        vertical-align: middle;\n",
       "    }\n",
       "\n",
       "    .dataframe tbody tr th {\n",
       "        vertical-align: top;\n",
       "    }\n",
       "\n",
       "    .dataframe thead th {\n",
       "        text-align: right;\n",
       "    }\n",
       "</style>\n",
       "<table border=\"1\" class=\"dataframe\">\n",
       "  <thead>\n",
       "    <tr style=\"text-align: right;\">\n",
       "      <th></th>\n",
       "      <th>business_id</th>\n",
       "      <th>time.Sun-7</th>\n",
       "      <th>time.Wed-10</th>\n",
       "      <th>time.Sun-21</th>\n",
       "      <th>time.Tue-3</th>\n",
       "      <th>time.Thu-9</th>\n",
       "      <th>time.Mon-14</th>\n",
       "      <th>time.Sat-15</th>\n",
       "      <th>time.Sat-11</th>\n",
       "      <th>time.Fri-12</th>\n",
       "      <th>...</th>\n",
       "      <th>time.Mon-13</th>\n",
       "      <th>time.Wed-12</th>\n",
       "      <th>Mon</th>\n",
       "      <th>Tue</th>\n",
       "      <th>Wed</th>\n",
       "      <th>Thu</th>\n",
       "      <th>Fri</th>\n",
       "      <th>Sat</th>\n",
       "      <th>Sun</th>\n",
       "      <th>Tot_checkin</th>\n",
       "    </tr>\n",
       "  </thead>\n",
       "  <tbody>\n",
       "    <tr>\n",
       "      <th>0</th>\n",
       "      <td>7KPBkxAOEtb3QeIL9PEErg</td>\n",
       "      <td>NaN</td>\n",
       "      <td>NaN</td>\n",
       "      <td>1.0</td>\n",
       "      <td>NaN</td>\n",
       "      <td>NaN</td>\n",
       "      <td>1.0</td>\n",
       "      <td>1.0</td>\n",
       "      <td>NaN</td>\n",
       "      <td>NaN</td>\n",
       "      <td>...</td>\n",
       "      <td>NaN</td>\n",
       "      <td>NaN</td>\n",
       "      <td>15.0</td>\n",
       "      <td>18.0</td>\n",
       "      <td>21.0</td>\n",
       "      <td>22.0</td>\n",
       "      <td>24.0</td>\n",
       "      <td>28.0</td>\n",
       "      <td>23.0</td>\n",
       "      <td>151.0</td>\n",
       "    </tr>\n",
       "    <tr>\n",
       "      <th>1</th>\n",
       "      <td>kREVIrSBbtqBhIYkTccQUg</td>\n",
       "      <td>NaN</td>\n",
       "      <td>NaN</td>\n",
       "      <td>NaN</td>\n",
       "      <td>NaN</td>\n",
       "      <td>NaN</td>\n",
       "      <td>NaN</td>\n",
       "      <td>NaN</td>\n",
       "      <td>NaN</td>\n",
       "      <td>NaN</td>\n",
       "      <td>...</td>\n",
       "      <td>1.0</td>\n",
       "      <td>NaN</td>\n",
       "      <td>1.0</td>\n",
       "      <td>0.0</td>\n",
       "      <td>1.0</td>\n",
       "      <td>2.0</td>\n",
       "      <td>0.0</td>\n",
       "      <td>2.0</td>\n",
       "      <td>1.0</td>\n",
       "      <td>7.0</td>\n",
       "    </tr>\n",
       "    <tr>\n",
       "      <th>2</th>\n",
       "      <td>tJRDll5yqpZwehenzE2cSg</td>\n",
       "      <td>NaN</td>\n",
       "      <td>NaN</td>\n",
       "      <td>NaN</td>\n",
       "      <td>NaN</td>\n",
       "      <td>NaN</td>\n",
       "      <td>NaN</td>\n",
       "      <td>NaN</td>\n",
       "      <td>NaN</td>\n",
       "      <td>NaN</td>\n",
       "      <td>...</td>\n",
       "      <td>NaN</td>\n",
       "      <td>NaN</td>\n",
       "      <td>2.0</td>\n",
       "      <td>0.0</td>\n",
       "      <td>0.0</td>\n",
       "      <td>1.0</td>\n",
       "      <td>1.0</td>\n",
       "      <td>1.0</td>\n",
       "      <td>1.0</td>\n",
       "      <td>6.0</td>\n",
       "    </tr>\n",
       "    <tr>\n",
       "      <th>3</th>\n",
       "      <td>tZccfdl6JNw-j5BKnCTIQQ</td>\n",
       "      <td>NaN</td>\n",
       "      <td>NaN</td>\n",
       "      <td>NaN</td>\n",
       "      <td>NaN</td>\n",
       "      <td>NaN</td>\n",
       "      <td>NaN</td>\n",
       "      <td>NaN</td>\n",
       "      <td>NaN</td>\n",
       "      <td>NaN</td>\n",
       "      <td>...</td>\n",
       "      <td>NaN</td>\n",
       "      <td>NaN</td>\n",
       "      <td>1.0</td>\n",
       "      <td>0.0</td>\n",
       "      <td>0.0</td>\n",
       "      <td>0.0</td>\n",
       "      <td>1.0</td>\n",
       "      <td>0.0</td>\n",
       "      <td>1.0</td>\n",
       "      <td>3.0</td>\n",
       "    </tr>\n",
       "    <tr>\n",
       "      <th>4</th>\n",
       "      <td>r1p7RAMzCV_6NPF0dNoR3g</td>\n",
       "      <td>NaN</td>\n",
       "      <td>NaN</td>\n",
       "      <td>NaN</td>\n",
       "      <td>NaN</td>\n",
       "      <td>NaN</td>\n",
       "      <td>NaN</td>\n",
       "      <td>NaN</td>\n",
       "      <td>NaN</td>\n",
       "      <td>NaN</td>\n",
       "      <td>...</td>\n",
       "      <td>NaN</td>\n",
       "      <td>NaN</td>\n",
       "      <td>0.0</td>\n",
       "      <td>0.0</td>\n",
       "      <td>0.0</td>\n",
       "      <td>1.0</td>\n",
       "      <td>0.0</td>\n",
       "      <td>3.0</td>\n",
       "      <td>1.0</td>\n",
       "      <td>5.0</td>\n",
       "    </tr>\n",
       "  </tbody>\n",
       "</table>\n",
       "<p>5 rows × 177 columns</p>\n",
       "</div>"
      ],
      "text/plain": [
       "              business_id  time.Sun-7  time.Wed-10  time.Sun-21  time.Tue-3  \\\n",
       "0  7KPBkxAOEtb3QeIL9PEErg         NaN          NaN          1.0         NaN   \n",
       "1  kREVIrSBbtqBhIYkTccQUg         NaN          NaN          NaN         NaN   \n",
       "2  tJRDll5yqpZwehenzE2cSg         NaN          NaN          NaN         NaN   \n",
       "3  tZccfdl6JNw-j5BKnCTIQQ         NaN          NaN          NaN         NaN   \n",
       "4  r1p7RAMzCV_6NPF0dNoR3g         NaN          NaN          NaN         NaN   \n",
       "\n",
       "   time.Thu-9  time.Mon-14  time.Sat-15  time.Sat-11  time.Fri-12  \\\n",
       "0         NaN          1.0          1.0          NaN          NaN   \n",
       "1         NaN          NaN          NaN          NaN          NaN   \n",
       "2         NaN          NaN          NaN          NaN          NaN   \n",
       "3         NaN          NaN          NaN          NaN          NaN   \n",
       "4         NaN          NaN          NaN          NaN          NaN   \n",
       "\n",
       "      ...       time.Mon-13  time.Wed-12   Mon   Tue   Wed   Thu   Fri   Sat  \\\n",
       "0     ...               NaN          NaN  15.0  18.0  21.0  22.0  24.0  28.0   \n",
       "1     ...               1.0          NaN   1.0   0.0   1.0   2.0   0.0   2.0   \n",
       "2     ...               NaN          NaN   2.0   0.0   0.0   1.0   1.0   1.0   \n",
       "3     ...               NaN          NaN   1.0   0.0   0.0   0.0   1.0   0.0   \n",
       "4     ...               NaN          NaN   0.0   0.0   0.0   1.0   0.0   3.0   \n",
       "\n",
       "    Sun  Tot_checkin  \n",
       "0  23.0        151.0  \n",
       "1   1.0          7.0  \n",
       "2   1.0          6.0  \n",
       "3   1.0          3.0  \n",
       "4   1.0          5.0  \n",
       "\n",
       "[5 rows x 177 columns]"
      ]
     },
     "execution_count": 24,
     "metadata": {},
     "output_type": "execute_result"
    }
   ],
   "source": [
    "check_in_data.head() #157075 rows × 177 columns"
   ]
  },
  {
   "cell_type": "code",
   "execution_count": 25,
   "metadata": {
    "scrolled": true
   },
   "outputs": [
    {
     "data": {
      "text/html": [
       "<div>\n",
       "<style scoped>\n",
       "    .dataframe tbody tr th:only-of-type {\n",
       "        vertical-align: middle;\n",
       "    }\n",
       "\n",
       "    .dataframe tbody tr th {\n",
       "        vertical-align: top;\n",
       "    }\n",
       "\n",
       "    .dataframe thead th {\n",
       "        text-align: right;\n",
       "    }\n",
       "</style>\n",
       "<table border=\"1\" class=\"dataframe\">\n",
       "  <thead>\n",
       "    <tr style=\"text-align: right;\">\n",
       "      <th></th>\n",
       "      <th>business_id</th>\n",
       "      <th>Tot_checkin</th>\n",
       "    </tr>\n",
       "  </thead>\n",
       "  <tbody>\n",
       "    <tr>\n",
       "      <th>0</th>\n",
       "      <td>7KPBkxAOEtb3QeIL9PEErg</td>\n",
       "      <td>151.0</td>\n",
       "    </tr>\n",
       "    <tr>\n",
       "      <th>1</th>\n",
       "      <td>kREVIrSBbtqBhIYkTccQUg</td>\n",
       "      <td>7.0</td>\n",
       "    </tr>\n",
       "    <tr>\n",
       "      <th>2</th>\n",
       "      <td>tJRDll5yqpZwehenzE2cSg</td>\n",
       "      <td>6.0</td>\n",
       "    </tr>\n",
       "    <tr>\n",
       "      <th>3</th>\n",
       "      <td>tZccfdl6JNw-j5BKnCTIQQ</td>\n",
       "      <td>3.0</td>\n",
       "    </tr>\n",
       "    <tr>\n",
       "      <th>4</th>\n",
       "      <td>r1p7RAMzCV_6NPF0dNoR3g</td>\n",
       "      <td>5.0</td>\n",
       "    </tr>\n",
       "  </tbody>\n",
       "</table>\n",
       "</div>"
      ],
      "text/plain": [
       "              business_id  Tot_checkin\n",
       "0  7KPBkxAOEtb3QeIL9PEErg        151.0\n",
       "1  kREVIrSBbtqBhIYkTccQUg          7.0\n",
       "2  tJRDll5yqpZwehenzE2cSg          6.0\n",
       "3  tZccfdl6JNw-j5BKnCTIQQ          3.0\n",
       "4  r1p7RAMzCV_6NPF0dNoR3g          5.0"
      ]
     },
     "execution_count": 25,
     "metadata": {},
     "output_type": "execute_result"
    }
   ],
   "source": [
    "check_in_data[['business_id','Tot_checkin']].head()"
   ]
  },
  {
   "cell_type": "markdown",
   "metadata": {},
   "source": [
    "Merge checkin-modified and review data"
   ]
  },
  {
   "cell_type": "code",
   "execution_count": 26,
   "metadata": {},
   "outputs": [],
   "source": [
    "review_checkin_merge = pd.merge(left=review_data_3,right=check_in_data[['business_id','Tot_checkin']],on='business_id', how='left')"
   ]
  },
  {
   "cell_type": "code",
   "execution_count": 27,
   "metadata": {},
   "outputs": [
    {
     "data": {
      "text/html": [
       "<div>\n",
       "<style scoped>\n",
       "    .dataframe tbody tr th:only-of-type {\n",
       "        vertical-align: middle;\n",
       "    }\n",
       "\n",
       "    .dataframe tbody tr th {\n",
       "        vertical-align: top;\n",
       "    }\n",
       "\n",
       "    .dataframe thead th {\n",
       "        text-align: right;\n",
       "    }\n",
       "</style>\n",
       "<table border=\"1\" class=\"dataframe\">\n",
       "  <thead>\n",
       "    <tr style=\"text-align: right;\">\n",
       "      <th></th>\n",
       "      <th>business_id</th>\n",
       "      <th>MeanStars</th>\n",
       "      <th>MedianStars</th>\n",
       "      <th>countReviews</th>\n",
       "      <th>Tot_checkin</th>\n",
       "    </tr>\n",
       "  </thead>\n",
       "  <tbody>\n",
       "    <tr>\n",
       "      <th>0</th>\n",
       "      <td>--1UhMGODdWsrMastO9DZw</td>\n",
       "      <td>4.041667</td>\n",
       "      <td>4.5</td>\n",
       "      <td>24</td>\n",
       "      <td>6.0</td>\n",
       "    </tr>\n",
       "    <tr>\n",
       "      <th>1</th>\n",
       "      <td>--6MefnULPED_I942VcFNA</td>\n",
       "      <td>3.128205</td>\n",
       "      <td>3.0</td>\n",
       "      <td>39</td>\n",
       "      <td>155.0</td>\n",
       "    </tr>\n",
       "    <tr>\n",
       "      <th>2</th>\n",
       "      <td>--7zmmkVg-IMGaXbuVd0SQ</td>\n",
       "      <td>3.870370</td>\n",
       "      <td>4.0</td>\n",
       "      <td>54</td>\n",
       "      <td>162.0</td>\n",
       "    </tr>\n",
       "    <tr>\n",
       "      <th>3</th>\n",
       "      <td>--8LPVSo5i0Oo61X01sV9A</td>\n",
       "      <td>3.500000</td>\n",
       "      <td>4.0</td>\n",
       "      <td>4</td>\n",
       "      <td>1.0</td>\n",
       "    </tr>\n",
       "    <tr>\n",
       "      <th>4</th>\n",
       "      <td>--9QQLMTbFzLJ_oT-ON3Xw</td>\n",
       "      <td>3.545455</td>\n",
       "      <td>5.0</td>\n",
       "      <td>11</td>\n",
       "      <td>36.0</td>\n",
       "    </tr>\n",
       "  </tbody>\n",
       "</table>\n",
       "</div>"
      ],
      "text/plain": [
       "              business_id  MeanStars  MedianStars  countReviews  Tot_checkin\n",
       "0  --1UhMGODdWsrMastO9DZw   4.041667          4.5            24          6.0\n",
       "1  --6MefnULPED_I942VcFNA   3.128205          3.0            39        155.0\n",
       "2  --7zmmkVg-IMGaXbuVd0SQ   3.870370          4.0            54        162.0\n",
       "3  --8LPVSo5i0Oo61X01sV9A   3.500000          4.0             4          1.0\n",
       "4  --9QQLMTbFzLJ_oT-ON3Xw   3.545455          5.0            11         36.0"
      ]
     },
     "execution_count": 27,
     "metadata": {},
     "output_type": "execute_result"
    }
   ],
   "source": [
    "review_checkin_merge.head()"
   ]
  },
  {
   "cell_type": "code",
   "execution_count": 28,
   "metadata": {},
   "outputs": [],
   "source": [
    "#bus_data.head()"
   ]
  },
  {
   "cell_type": "code",
   "execution_count": 29,
   "metadata": {},
   "outputs": [],
   "source": [
    "#get columns which can give meaningful info on whether a business will close or not\n",
    "#columns2 = ['stars','review_count','MeanStars','MedianStars','NumberOfReviews','Tot_checkin']\n",
    "\n",
    "columns2 = ['stars','review_count','MeanStars','MedianStars','Tot_checkin']"
   ]
  },
  {
   "cell_type": "markdown",
   "metadata": {},
   "source": [
    "Now merge with business data"
   ]
  },
  {
   "cell_type": "code",
   "execution_count": 30,
   "metadata": {
    "scrolled": true
   },
   "outputs": [],
   "source": [
    "merged_data = pd.merge(left=bus_data,right=review_checkin_merge,on='business_id',how='left')"
   ]
  },
  {
   "cell_type": "code",
   "execution_count": 31,
   "metadata": {},
   "outputs": [],
   "source": [
    "#review_checkin_merge.Tot_checkin.isnull().sum()"
   ]
  },
  {
   "cell_type": "code",
   "execution_count": 32,
   "metadata": {
    "scrolled": true
   },
   "outputs": [],
   "source": [
    "#review_checkin_merge.isnull().sum()"
   ]
  },
  {
   "cell_type": "code",
   "execution_count": 33,
   "metadata": {},
   "outputs": [],
   "source": [
    "#len(review_data_3)-len(check_in_data)"
   ]
  },
  {
   "cell_type": "code",
   "execution_count": 34,
   "metadata": {},
   "outputs": [],
   "source": [
    "#len(check_in_data)"
   ]
  },
  {
   "cell_type": "code",
   "execution_count": 35,
   "metadata": {},
   "outputs": [],
   "source": [
    "#review_checkin_merge.columns"
   ]
  },
  {
   "cell_type": "code",
   "execution_count": 36,
   "metadata": {},
   "outputs": [
    {
     "data": {
      "text/html": [
       "<div>\n",
       "<style scoped>\n",
       "    .dataframe tbody tr th:only-of-type {\n",
       "        vertical-align: middle;\n",
       "    }\n",
       "\n",
       "    .dataframe tbody tr th {\n",
       "        vertical-align: top;\n",
       "    }\n",
       "\n",
       "    .dataframe thead th {\n",
       "        text-align: right;\n",
       "    }\n",
       "</style>\n",
       "<table border=\"1\" class=\"dataframe\">\n",
       "  <thead>\n",
       "    <tr style=\"text-align: right;\">\n",
       "      <th></th>\n",
       "      <th>attributes.BYOBCorkage</th>\n",
       "      <th>attributes.BusinessParking</th>\n",
       "      <th>hours.Saturday</th>\n",
       "      <th>attributes.RestaurantsCounterService</th>\n",
       "      <th>attributes.DietaryRestrictions</th>\n",
       "      <th>attributes.OutdoorSeating</th>\n",
       "      <th>attributes.Open24Hours</th>\n",
       "      <th>attributes.BestNights</th>\n",
       "      <th>address</th>\n",
       "      <th>attributes.AgesAllowed</th>\n",
       "      <th>...</th>\n",
       "      <th>attributes.HasTV</th>\n",
       "      <th>attributes.Caters</th>\n",
       "      <th>attributes.BikeParking</th>\n",
       "      <th>attributes.Alcohol</th>\n",
       "      <th>attributes.DriveThru</th>\n",
       "      <th>hours.Monday</th>\n",
       "      <th>MeanStars</th>\n",
       "      <th>MedianStars</th>\n",
       "      <th>countReviews</th>\n",
       "      <th>Tot_checkin</th>\n",
       "    </tr>\n",
       "  </thead>\n",
       "  <tbody>\n",
       "    <tr>\n",
       "      <th>0</th>\n",
       "      <td>NaN</td>\n",
       "      <td>{'garage': False, 'street': True, 'validated':...</td>\n",
       "      <td>11:0-21:0</td>\n",
       "      <td>NaN</td>\n",
       "      <td>NaN</td>\n",
       "      <td>False</td>\n",
       "      <td>NaN</td>\n",
       "      <td>NaN</td>\n",
       "      <td>1314 44 Avenue NE</td>\n",
       "      <td>NaN</td>\n",
       "      <td>...</td>\n",
       "      <td>True</td>\n",
       "      <td>NaN</td>\n",
       "      <td>False</td>\n",
       "      <td>NaN</td>\n",
       "      <td>NaN</td>\n",
       "      <td>8:30-17:0</td>\n",
       "      <td>4.208333</td>\n",
       "      <td>5.0</td>\n",
       "      <td>24</td>\n",
       "      <td>29.0</td>\n",
       "    </tr>\n",
       "    <tr>\n",
       "      <th>1</th>\n",
       "      <td>NaN</td>\n",
       "      <td>{'garage': False, 'street': True, 'validated':...</td>\n",
       "      <td>17:0-23:0</td>\n",
       "      <td>NaN</td>\n",
       "      <td>NaN</td>\n",
       "      <td>True</td>\n",
       "      <td>NaN</td>\n",
       "      <td>NaN</td>\n",
       "      <td>NaN</td>\n",
       "      <td>NaN</td>\n",
       "      <td>...</td>\n",
       "      <td>False</td>\n",
       "      <td>True</td>\n",
       "      <td>False</td>\n",
       "      <td>none</td>\n",
       "      <td>False</td>\n",
       "      <td>NaN</td>\n",
       "      <td>4.666667</td>\n",
       "      <td>5.0</td>\n",
       "      <td>3</td>\n",
       "      <td>1.0</td>\n",
       "    </tr>\n",
       "    <tr>\n",
       "      <th>2</th>\n",
       "      <td>NaN</td>\n",
       "      <td>{'garage': False, 'street': False, 'validated'...</td>\n",
       "      <td>10:0-22:0</td>\n",
       "      <td>NaN</td>\n",
       "      <td>NaN</td>\n",
       "      <td>False</td>\n",
       "      <td>NaN</td>\n",
       "      <td>NaN</td>\n",
       "      <td>1335 rue Beaubien E</td>\n",
       "      <td>NaN</td>\n",
       "      <td>...</td>\n",
       "      <td>True</td>\n",
       "      <td>False</td>\n",
       "      <td>True</td>\n",
       "      <td>beer_and_wine</td>\n",
       "      <td>NaN</td>\n",
       "      <td>10:0-22:0</td>\n",
       "      <td>3.800000</td>\n",
       "      <td>4.0</td>\n",
       "      <td>5</td>\n",
       "      <td>7.0</td>\n",
       "    </tr>\n",
       "    <tr>\n",
       "      <th>3</th>\n",
       "      <td>NaN</td>\n",
       "      <td>NaN</td>\n",
       "      <td>NaN</td>\n",
       "      <td>NaN</td>\n",
       "      <td>NaN</td>\n",
       "      <td>NaN</td>\n",
       "      <td>NaN</td>\n",
       "      <td>NaN</td>\n",
       "      <td>211 W Monroe St</td>\n",
       "      <td>NaN</td>\n",
       "      <td>...</td>\n",
       "      <td>NaN</td>\n",
       "      <td>NaN</td>\n",
       "      <td>NaN</td>\n",
       "      <td>NaN</td>\n",
       "      <td>NaN</td>\n",
       "      <td>NaN</td>\n",
       "      <td>1.500000</td>\n",
       "      <td>1.0</td>\n",
       "      <td>8</td>\n",
       "      <td>1.0</td>\n",
       "    </tr>\n",
       "    <tr>\n",
       "      <th>4</th>\n",
       "      <td>NaN</td>\n",
       "      <td>NaN</td>\n",
       "      <td>NaN</td>\n",
       "      <td>NaN</td>\n",
       "      <td>NaN</td>\n",
       "      <td>NaN</td>\n",
       "      <td>NaN</td>\n",
       "      <td>NaN</td>\n",
       "      <td>2005 Alyth Place SE</td>\n",
       "      <td>NaN</td>\n",
       "      <td>...</td>\n",
       "      <td>NaN</td>\n",
       "      <td>NaN</td>\n",
       "      <td>NaN</td>\n",
       "      <td>NaN</td>\n",
       "      <td>NaN</td>\n",
       "      <td>8:0-17:0</td>\n",
       "      <td>2.000000</td>\n",
       "      <td>2.0</td>\n",
       "      <td>4</td>\n",
       "      <td>2.0</td>\n",
       "    </tr>\n",
       "  </tbody>\n",
       "</table>\n",
       "<p>5 rows × 65 columns</p>\n",
       "</div>"
      ],
      "text/plain": [
       "  attributes.BYOBCorkage                         attributes.BusinessParking  \\\n",
       "0                    NaN  {'garage': False, 'street': True, 'validated':...   \n",
       "1                    NaN  {'garage': False, 'street': True, 'validated':...   \n",
       "2                    NaN  {'garage': False, 'street': False, 'validated'...   \n",
       "3                    NaN                                                NaN   \n",
       "4                    NaN                                                NaN   \n",
       "\n",
       "  hours.Saturday attributes.RestaurantsCounterService  \\\n",
       "0      11:0-21:0                                  NaN   \n",
       "1      17:0-23:0                                  NaN   \n",
       "2      10:0-22:0                                  NaN   \n",
       "3            NaN                                  NaN   \n",
       "4            NaN                                  NaN   \n",
       "\n",
       "  attributes.DietaryRestrictions attributes.OutdoorSeating  \\\n",
       "0                            NaN                     False   \n",
       "1                            NaN                      True   \n",
       "2                            NaN                     False   \n",
       "3                            NaN                       NaN   \n",
       "4                            NaN                       NaN   \n",
       "\n",
       "  attributes.Open24Hours attributes.BestNights              address  \\\n",
       "0                    NaN                   NaN    1314 44 Avenue NE   \n",
       "1                    NaN                   NaN                  NaN   \n",
       "2                    NaN                   NaN  1335 rue Beaubien E   \n",
       "3                    NaN                   NaN      211 W Monroe St   \n",
       "4                    NaN                   NaN  2005 Alyth Place SE   \n",
       "\n",
       "  attributes.AgesAllowed     ...      attributes.HasTV attributes.Caters  \\\n",
       "0                    NaN     ...                  True               NaN   \n",
       "1                    NaN     ...                 False              True   \n",
       "2                    NaN     ...                  True             False   \n",
       "3                    NaN     ...                   NaN               NaN   \n",
       "4                    NaN     ...                   NaN               NaN   \n",
       "\n",
       "   attributes.BikeParking attributes.Alcohol  attributes.DriveThru  \\\n",
       "0                   False                NaN                   NaN   \n",
       "1                   False               none                 False   \n",
       "2                    True      beer_and_wine                   NaN   \n",
       "3                     NaN                NaN                   NaN   \n",
       "4                     NaN                NaN                   NaN   \n",
       "\n",
       "  hours.Monday MeanStars MedianStars countReviews  Tot_checkin  \n",
       "0    8:30-17:0  4.208333         5.0           24         29.0  \n",
       "1          NaN  4.666667         5.0            3          1.0  \n",
       "2    10:0-22:0  3.800000         4.0            5          7.0  \n",
       "3          NaN  1.500000         1.0            8          1.0  \n",
       "4     8:0-17:0  2.000000         2.0            4          2.0  \n",
       "\n",
       "[5 rows x 65 columns]"
      ]
     },
     "execution_count": 36,
     "metadata": {},
     "output_type": "execute_result"
    }
   ],
   "source": [
    "merged_data.head()"
   ]
  },
  {
   "cell_type": "markdown",
   "metadata": {},
   "source": [
    "To feed the model"
   ]
  },
  {
   "cell_type": "code",
   "execution_count": 37,
   "metadata": {},
   "outputs": [
    {
     "data": {
      "text/html": [
       "<div>\n",
       "<style scoped>\n",
       "    .dataframe tbody tr th:only-of-type {\n",
       "        vertical-align: middle;\n",
       "    }\n",
       "\n",
       "    .dataframe tbody tr th {\n",
       "        vertical-align: top;\n",
       "    }\n",
       "\n",
       "    .dataframe thead th {\n",
       "        text-align: right;\n",
       "    }\n",
       "</style>\n",
       "<table border=\"1\" class=\"dataframe\">\n",
       "  <thead>\n",
       "    <tr style=\"text-align: right;\">\n",
       "      <th></th>\n",
       "      <th>stars</th>\n",
       "      <th>review_count</th>\n",
       "      <th>MeanStars</th>\n",
       "      <th>MedianStars</th>\n",
       "      <th>Tot_checkin</th>\n",
       "    </tr>\n",
       "  </thead>\n",
       "  <tbody>\n",
       "    <tr>\n",
       "      <th>0</th>\n",
       "      <td>4.0</td>\n",
       "      <td>24</td>\n",
       "      <td>4.208333</td>\n",
       "      <td>5.0</td>\n",
       "      <td>29.0</td>\n",
       "    </tr>\n",
       "    <tr>\n",
       "      <th>1</th>\n",
       "      <td>4.5</td>\n",
       "      <td>3</td>\n",
       "      <td>4.666667</td>\n",
       "      <td>5.0</td>\n",
       "      <td>1.0</td>\n",
       "    </tr>\n",
       "    <tr>\n",
       "      <th>2</th>\n",
       "      <td>4.0</td>\n",
       "      <td>5</td>\n",
       "      <td>3.800000</td>\n",
       "      <td>4.0</td>\n",
       "      <td>7.0</td>\n",
       "    </tr>\n",
       "    <tr>\n",
       "      <th>3</th>\n",
       "      <td>1.5</td>\n",
       "      <td>8</td>\n",
       "      <td>1.500000</td>\n",
       "      <td>1.0</td>\n",
       "      <td>1.0</td>\n",
       "    </tr>\n",
       "    <tr>\n",
       "      <th>4</th>\n",
       "      <td>2.0</td>\n",
       "      <td>4</td>\n",
       "      <td>2.000000</td>\n",
       "      <td>2.0</td>\n",
       "      <td>2.0</td>\n",
       "    </tr>\n",
       "  </tbody>\n",
       "</table>\n",
       "</div>"
      ],
      "text/plain": [
       "   stars  review_count  MeanStars  MedianStars  Tot_checkin\n",
       "0    4.0            24   4.208333          5.0         29.0\n",
       "1    4.5             3   4.666667          5.0          1.0\n",
       "2    4.0             5   3.800000          4.0          7.0\n",
       "3    1.5             8   1.500000          1.0          1.0\n",
       "4    2.0             4   2.000000          2.0          2.0"
      ]
     },
     "execution_count": 37,
     "metadata": {},
     "output_type": "execute_result"
    }
   ],
   "source": [
    "merged_data[columns2].head()"
   ]
  },
  {
   "cell_type": "code",
   "execution_count": 38,
   "metadata": {},
   "outputs": [
    {
     "data": {
      "text/plain": [
       "0    1\n",
       "1    0\n",
       "2    0\n",
       "3    1\n",
       "4    1\n",
       "Name: is_open, dtype: int64"
      ]
     },
     "execution_count": 38,
     "metadata": {},
     "output_type": "execute_result"
    }
   ],
   "source": [
    "merged_data['is_open'].head()"
   ]
  },
  {
   "cell_type": "code",
   "execution_count": 39,
   "metadata": {},
   "outputs": [
    {
     "data": {
      "text/plain": [
       "1    156606\n",
       "0     31987\n",
       "Name: is_open, dtype: int64"
      ]
     },
     "execution_count": 39,
     "metadata": {},
     "output_type": "execute_result"
    }
   ],
   "source": [
    "merged_data.is_open.value_counts()"
   ]
  },
  {
   "cell_type": "markdown",
   "metadata": {},
   "source": [
    "#### Train_test"
   ]
  },
  {
   "cell_type": "code",
   "execution_count": 40,
   "metadata": {},
   "outputs": [],
   "source": [
    "train_test_x = merged_data[columns2].copy()\n",
    "train_test_x.fillna(0.0,inplace=True)"
   ]
  },
  {
   "cell_type": "code",
   "execution_count": 41,
   "metadata": {},
   "outputs": [],
   "source": [
    "train_x, test_x, train_y, test_y = train_test_split(train_test_x,merged_data['is_open']\n",
    "                                                    ,test_size = 0.3, random_state = 18)"
   ]
  },
  {
   "cell_type": "markdown",
   "metadata": {},
   "source": [
    "Data has been split. now check value count"
   ]
  },
  {
   "cell_type": "code",
   "execution_count": 42,
   "metadata": {},
   "outputs": [
    {
     "data": {
      "text/plain": [
       "1    0.830201\n",
       "0    0.169799\n",
       "Name: is_open, dtype: float64"
      ]
     },
     "execution_count": 42,
     "metadata": {},
     "output_type": "execute_result"
    }
   ],
   "source": [
    "train_y.value_counts()/train_y.count()"
   ]
  },
  {
   "cell_type": "code",
   "execution_count": 43,
   "metadata": {},
   "outputs": [
    {
     "data": {
      "text/plain": [
       "1    0.830835\n",
       "0    0.169165\n",
       "Name: is_open, dtype: float64"
      ]
     },
     "execution_count": 43,
     "metadata": {},
     "output_type": "execute_result"
    }
   ],
   "source": [
    "test_y.value_counts()/test_y.count()"
   ]
  },
  {
   "cell_type": "code",
   "execution_count": 44,
   "metadata": {},
   "outputs": [
    {
     "data": {
      "text/plain": [
       "1    156606\n",
       "0     31987\n",
       "Name: is_open, dtype: int64"
      ]
     },
     "execution_count": 44,
     "metadata": {},
     "output_type": "execute_result"
    }
   ],
   "source": [
    "merged_data['is_open'].value_counts()"
   ]
  },
  {
   "cell_type": "code",
   "execution_count": 45,
   "metadata": {},
   "outputs": [
    {
     "data": {
      "text/plain": [
       "16.96086281039063"
      ]
     },
     "execution_count": 45,
     "metadata": {},
     "output_type": "execute_result"
    }
   ],
   "source": [
    "#percentage of is_open = 0\n",
    "merged_data['is_open'].value_counts()[0]/merged_data['is_open'].count()*100"
   ]
  },
  {
   "cell_type": "code",
   "execution_count": 46,
   "metadata": {},
   "outputs": [
    {
     "data": {
      "text/plain": [
       "83.03913718960936"
      ]
     },
     "execution_count": 46,
     "metadata": {},
     "output_type": "execute_result"
    }
   ],
   "source": [
    "#percentage of is_open = 1\n",
    "merged_data['is_open'].value_counts()[1]/merged_data['is_open'].count()*100"
   ]
  },
  {
   "cell_type": "markdown",
   "metadata": {},
   "source": [
    "Models"
   ]
  },
  {
   "cell_type": "code",
   "execution_count": 114,
   "metadata": {},
   "outputs": [],
   "source": [
    "model_scores = list() #create an empty list to store scores\n",
    "f1_org  = list()\n",
    "f1_smote  = list()"
   ]
  },
  {
   "cell_type": "markdown",
   "metadata": {},
   "source": [
    "##### 1.1 Logistic Regression"
   ]
  },
  {
   "cell_type": "code",
   "execution_count": 115,
   "metadata": {},
   "outputs": [
    {
     "name": "stderr",
     "output_type": "stream",
     "text": [
      "C:\\Users\\heman_tmaeglj\\Anaconda3\\envs\\model2\\lib\\site-packages\\sklearn\\linear_model\\logistic.py:433: FutureWarning: Default solver will be changed to 'lbfgs' in 0.22. Specify a solver to silence this warning.\n",
      "  FutureWarning)\n"
     ]
    }
   ],
   "source": [
    "model = LogisticRegression()\n",
    "model.fit(train_x,train_y)\n",
    "#Input contains NaN, infinity or a value too large for dtype('float64').\n",
    "pred_y = model.predict(test_x)"
   ]
  },
  {
   "cell_type": "code",
   "execution_count": 116,
   "metadata": {},
   "outputs": [
    {
     "name": "stdout",
     "output_type": "stream",
     "text": [
      "Accuracy  83.08353070097918 Recall  50.0 F1 score  45.380122604624226\n"
     ]
    },
    {
     "name": "stderr",
     "output_type": "stream",
     "text": [
      "C:\\Users\\heman_tmaeglj\\Anaconda3\\envs\\model2\\lib\\site-packages\\sklearn\\metrics\\classification.py:1143: UndefinedMetricWarning: F-score is ill-defined and being set to 0.0 in labels with no predicted samples.\n",
      "  'precision', 'predicted', average, warn_for)\n",
      "C:\\Users\\heman_tmaeglj\\Anaconda3\\envs\\model2\\lib\\site-packages\\sklearn\\metrics\\classification.py:1143: UndefinedMetricWarning: F-score is ill-defined and being set to 0.0 in labels with no predicted samples.\n",
      "  'precision', 'predicted', average, warn_for)\n",
      "C:\\Users\\heman_tmaeglj\\Anaconda3\\envs\\model2\\lib\\site-packages\\sklearn\\metrics\\classification.py:1143: UndefinedMetricWarning: F-score is ill-defined and being set to 0.0 in labels with no predicted samples.\n",
      "  'precision', 'predicted', average, warn_for)\n"
     ]
    }
   ],
   "source": [
    "print(\"Accuracy \",accuracy_score(test_y,pred_y)*100,\"Recall \",recall_score(test_y,pred_y,\n",
    "                average='macro')*100, \"F1 score \",f1_score(test_y,pred_y,average='macro')*100)\n",
    "model_scores.append(['LR',accuracy_score(test_y,pred_y)*100,recall_score(test_y,pred_y,\n",
    "                average='macro')*100,f1_score(test_y,pred_y,average='macro')*100])\n",
    "f1_org.append(f1_score(test_y,pred_y,average='macro')*100)"
   ]
  },
  {
   "cell_type": "markdown",
   "metadata": {},
   "source": [
    "Accuracy of 83% is skewed towards majority class (which has 83% presence)"
   ]
  },
  {
   "cell_type": "code",
   "execution_count": 117,
   "metadata": {
    "code_folding": []
   },
   "outputs": [],
   "source": [
    "#data is skewed towards predicting business is open"
   ]
  },
  {
   "cell_type": "markdown",
   "metadata": {},
   "source": [
    "#### 1.2 LR - SMOTE - why? to handle imbalanced class"
   ]
  },
  {
   "cell_type": "code",
   "execution_count": 118,
   "metadata": {},
   "outputs": [],
   "source": [
    "sm = SMOTE(random_state=18)\n",
    "train_x_smote, train_y_smote = sm.fit_sample(train_x, train_y)"
   ]
  },
  {
   "cell_type": "code",
   "execution_count": 119,
   "metadata": {},
   "outputs": [],
   "source": [
    "#len(train_x),len(train_x_smote),len(train_y),len(train_y_smote)"
   ]
  },
  {
   "cell_type": "code",
   "execution_count": 120,
   "metadata": {},
   "outputs": [],
   "source": [
    "#train_y.value_counts()"
   ]
  },
  {
   "cell_type": "code",
   "execution_count": 121,
   "metadata": {},
   "outputs": [],
   "source": [
    "# train_y_smote\n",
    "# x = train_y_smote\n",
    "# y = np.bincount(x)\n",
    "# ii = np.nonzero(y)[0]\n",
    "# list(zip(ii,y[ii]) ) #equal no. of labels in train_y_smote"
   ]
  },
  {
   "cell_type": "code",
   "execution_count": 122,
   "metadata": {},
   "outputs": [
    {
     "name": "stderr",
     "output_type": "stream",
     "text": [
      "C:\\Users\\heman_tmaeglj\\Anaconda3\\envs\\model2\\lib\\site-packages\\sklearn\\linear_model\\logistic.py:433: FutureWarning: Default solver will be changed to 'lbfgs' in 0.22. Specify a solver to silence this warning.\n",
      "  FutureWarning)\n"
     ]
    },
    {
     "name": "stdout",
     "output_type": "stream",
     "text": [
      "Accuracy  50.996853900809505 Recall  53.90954317305165 F1 score  62.66948524956577\n"
     ]
    }
   ],
   "source": [
    "model = LogisticRegression()\n",
    "model.fit(train_x_smote, train_y_smote)\n",
    "#Input contains NaN, infinity or a value too large for dtype('float64').\n",
    "pred_y = model.predict(test_x)\n",
    "print(\"Accuracy \",accuracy_score(test_y,pred_y)*100,\"Recall \",recall_score(test_y,pred_y,\n",
    "                average='macro')*100, \"F1 score \",f1_score(test_y,pred_y)*100)\n",
    "model_scores.append(['LR-SMOTE',accuracy_score(test_y,pred_y)*100,recall_score(test_y,pred_y,\n",
    "                average='macro')*100,f1_score(test_y,pred_y)*100])\n",
    "f1_smote.append(f1_score(test_y,pred_y)*100)"
   ]
  },
  {
   "cell_type": "markdown",
   "metadata": {},
   "source": [
    "#### 2.1 XGB"
   ]
  },
  {
   "cell_type": "code",
   "execution_count": 123,
   "metadata": {},
   "outputs": [
    {
     "name": "stdout",
     "output_type": "stream",
     "text": [
      "Accuracy  83.11181024426455 Recall  50.137671593079894 F1 score  45.68764972432922\n"
     ]
    }
   ],
   "source": [
    "#XGBClassifier(seed=2,max_depth=7,min_child_weight=1).fit(train_x,train_y)\n",
    "model = XGBClassifier(seed=2,max_depth=7,min_child_weight=1)\n",
    "model.fit(train_x,train_y)\n",
    "#Input contains NaN, infinity or a value too large for dtype('float64').\n",
    "pred_y = model.predict(test_x)\n",
    "print(\"Accuracy \",accuracy_score(test_y,pred_y)*100,\"Recall \",recall_score(test_y,pred_y,\n",
    "                average='macro')*100, \"F1 score \",f1_score(test_y,pred_y,average='macro')*100)\n",
    "model_scores.append(['XGBClassifier',accuracy_score(test_y,pred_y)*100,recall_score(test_y,pred_y,\n",
    "                average='macro')*100,f1_score(test_y,pred_y,average='macro')*100])\n",
    "f1_org.append(f1_score(test_y,pred_y,average='macro')*100)"
   ]
  },
  {
   "cell_type": "markdown",
   "metadata": {},
   "source": [
    "#### 2.2 XGB - SMOTE"
   ]
  },
  {
   "cell_type": "code",
   "execution_count": 124,
   "metadata": {},
   "outputs": [],
   "source": [
    "#XGBClassifier(seed=2,max_depth=7,min_child_weight=1).fit(train_x,train_y)\n",
    "model = XGBClassifier(seed=2,max_depth=7,min_child_weight=1)\n",
    "model.fit(train_x_smote,train_y_smote)\n",
    "#Input contains NaN, infinity or a value too large for dtype('float64').\n",
    "pred_y = model.predict(test_x.values)"
   ]
  },
  {
   "cell_type": "code",
   "execution_count": 125,
   "metadata": {},
   "outputs": [
    {
     "name": "stdout",
     "output_type": "stream",
     "text": [
      "73.10438686415215 73.10438686415215 73.10438686415215\n"
     ]
    }
   ],
   "source": [
    "print(accuracy_score(test_y,pred_y)*100,recall_score(test_y,pred_y,\n",
    "                average='macro')*100,f1_score(test_y,pred_y,average='macro')*100)"
   ]
  },
  {
   "cell_type": "code",
   "execution_count": 126,
   "metadata": {},
   "outputs": [],
   "source": [
    "model_scores.append(['XGB-SMOTE',accuracy_score(test_y,pred_y)*100,recall_score(test_y,pred_y,\n",
    "                average='macro')*100,f1_score(test_y,pred_y,average='macro')*100])\n",
    "f1_smote.append(f1_score(test_y,pred_y,average='macro')*100)"
   ]
  },
  {
   "cell_type": "markdown",
   "metadata": {},
   "source": [
    "#### 3.1 RandomForestClassifier"
   ]
  },
  {
   "cell_type": "code",
   "execution_count": 127,
   "metadata": {},
   "outputs": [
    {
     "name": "stderr",
     "output_type": "stream",
     "text": [
      "C:\\Users\\heman_tmaeglj\\Anaconda3\\envs\\model2\\lib\\site-packages\\sklearn\\ensemble\\forest.py:246: FutureWarning: The default value of n_estimators will change from 10 in version 0.20 to 100 in 0.22.\n",
      "  \"10 in version 0.20 to 100 in 0.22.\", FutureWarning)\n"
     ]
    }
   ],
   "source": [
    "model = RandomForestClassifier(random_state=18)\n",
    "#model = RandomForestClassifier(random_state=18,max_depth= 2)\n",
    "model.fit(train_x,train_y)\n",
    "#Input contains NaN, infinity or a value too large for dtype('float64').\n",
    "#pred_y = model.predict(test_x.values)\n",
    "pred_y = model.predict(test_x)"
   ]
  },
  {
   "cell_type": "code",
   "execution_count": 128,
   "metadata": {},
   "outputs": [
    {
     "name": "stdout",
     "output_type": "stream",
     "text": [
      "79.37007317331826 52.15033352993306 51.77612102129772\n"
     ]
    }
   ],
   "source": [
    "print(accuracy_score(test_y,pred_y)*100,recall_score(test_y,pred_y,\n",
    "                average='macro')*100,f1_score(test_y,pred_y,average='macro')*100)\n",
    "f1_org.append(f1_score(test_y,pred_y,average='macro')*100)"
   ]
  },
  {
   "cell_type": "markdown",
   "metadata": {},
   "source": [
    "#### 3.2 RandomForestClassifier-SMOTE"
   ]
  },
  {
   "cell_type": "code",
   "execution_count": 129,
   "metadata": {},
   "outputs": [],
   "source": [
    "#model = RandomForestClassifier(random_state=18,n_estimators=100)\n",
    "model = RandomForestClassifier(random_state=18,n_estimators=10)\n",
    "model.fit(train_x_smote,train_y_smote)\n",
    "#Input contains NaN, infinity or a value too large for dtype('float64').\n",
    "pred_y = model.predict(test_x.values)"
   ]
  },
  {
   "cell_type": "code",
   "execution_count": 130,
   "metadata": {},
   "outputs": [
    {
     "name": "stdout",
     "output_type": "stream",
     "text": [
      "72.39916575347308 55.156940737292445 54.655748515550414\n"
     ]
    }
   ],
   "source": [
    "print(accuracy_score(test_y,pred_y)*100,recall_score(test_y,pred_y,\n",
    "                average='macro')*100,f1_score(test_y,pred_y,average='macro')*100)\n",
    "f1_smote.append(f1_score(test_y,pred_y,average='macro')*100)"
   ]
  },
  {
   "cell_type": "markdown",
   "metadata": {},
   "source": [
    "#### 4.1 LinearSVC"
   ]
  },
  {
   "cell_type": "code",
   "execution_count": 131,
   "metadata": {},
   "outputs": [
    {
     "name": "stderr",
     "output_type": "stream",
     "text": [
      "C:\\Users\\heman_tmaeglj\\Anaconda3\\envs\\model2\\lib\\site-packages\\sklearn\\svm\\base.py:922: ConvergenceWarning: Liblinear failed to converge, increase the number of iterations.\n",
      "  \"the number of iterations.\", ConvergenceWarning)\n"
     ]
    }
   ],
   "source": [
    "#model = LinearSVC(random_state=18)\n",
    "model = LinearSVC(random_state=18,loss ='hinge')\n",
    "model.fit(train_x,train_y)\n",
    "pred_y = model.predict(test_x.values)"
   ]
  },
  {
   "cell_type": "code",
   "execution_count": 132,
   "metadata": {},
   "outputs": [
    {
     "name": "stdout",
     "output_type": "stream",
     "text": [
      "83.00045954257838 49.954167888844076 45.36563376792863\n"
     ]
    }
   ],
   "source": [
    "print(accuracy_score(test_y,pred_y)*100,recall_score(test_y,pred_y,\n",
    "                average='macro')*100,f1_score(test_y,pred_y,average='macro')*100)\n",
    "f1_org.append(f1_score(test_y,pred_y,average='macro')*100)"
   ]
  },
  {
   "cell_type": "markdown",
   "metadata": {},
   "source": [
    "#### 4.2 LinearSVC-SMOTE"
   ]
  },
  {
   "cell_type": "code",
   "execution_count": 133,
   "metadata": {},
   "outputs": [
    {
     "name": "stderr",
     "output_type": "stream",
     "text": [
      "C:\\Users\\heman_tmaeglj\\Anaconda3\\envs\\model2\\lib\\site-packages\\sklearn\\svm\\base.py:922: ConvergenceWarning: Liblinear failed to converge, increase the number of iterations.\n",
      "  \"the number of iterations.\", ConvergenceWarning)\n"
     ]
    }
   ],
   "source": [
    "#model = LinearSVC(random_state=18)\n",
    "model = LinearSVC(random_state=18,loss ='hinge')\n",
    "model.fit(train_x_smote,train_y_smote)\n",
    "pred_y = model.predict(test_x.values)"
   ]
  },
  {
   "cell_type": "code",
   "execution_count": 134,
   "metadata": {},
   "outputs": [
    {
     "name": "stdout",
     "output_type": "stream",
     "text": [
      "32.33412280391671 52.23477510025323 32.19768567529025\n"
     ]
    }
   ],
   "source": [
    "print(accuracy_score(test_y,pred_y)*100,recall_score(test_y,pred_y,\n",
    "                average='macro')*100,f1_score(test_y,pred_y,average='macro')*100)\n",
    "f1_smote.append(f1_score(test_y,pred_y,average='macro')*100)"
   ]
  },
  {
   "cell_type": "markdown",
   "metadata": {},
   "source": [
    "#### 5.1 KNN Classifier"
   ]
  },
  {
   "cell_type": "code",
   "execution_count": 135,
   "metadata": {},
   "outputs": [
    {
     "name": "stdout",
     "output_type": "stream",
     "text": [
      "73.83788751811659 53.0646941551844 53.08840352504311\n"
     ]
    }
   ],
   "source": [
    "model = KNeighborsClassifier(n_neighbors=1)\n",
    "model.fit(train_x,train_y)\n",
    "pred_y = model.predict(test_x.values)\n",
    "print(accuracy_score(test_y,pred_y)*100,recall_score(test_y,pred_y,\n",
    "                average='macro')*100,f1_score(test_y,pred_y,average='macro')*100)\n",
    "f1_org.append(f1_score(test_y,pred_y,average='macro')*100)"
   ]
  },
  {
   "cell_type": "markdown",
   "metadata": {},
   "source": [
    "#### 5.2 KNN Classifier-SMOTE"
   ]
  },
  {
   "cell_type": "code",
   "execution_count": 136,
   "metadata": {},
   "outputs": [
    {
     "name": "stdout",
     "output_type": "stream",
     "text": [
      "65.25151118809431 53.22690631708258 51.396079368828474\n"
     ]
    }
   ],
   "source": [
    "model = KNeighborsClassifier(n_neighbors=1)\n",
    "model.fit(train_x_smote,train_y_smote)\n",
    "pred_y = model.predict(test_x.values)\n",
    "print(accuracy_score(test_y,pred_y)*100,recall_score(test_y,pred_y,\n",
    "                average='macro')*100,f1_score(test_y,pred_y,average='macro')*100)\n",
    "f1_smote.append(f1_score(test_y,pred_y,average='macro')*100)"
   ]
  },
  {
   "cell_type": "markdown",
   "metadata": {},
   "source": [
    "### Plot"
   ]
  },
  {
   "cell_type": "code",
   "execution_count": 137,
   "metadata": {},
   "outputs": [],
   "source": [
    "#for x in range(0,4): print(model_scores[x][0])\n",
    "#'Logistic Regression', 'XGBClassifier', 'Random Forest',linear svc, KNN\n",
    "#org_score = [45.38, 45.68, 51.77, 45.36, 53.08] \n",
    "#smote_scores = [62.66 , 73.10, 72.399, 32.33, 65.25]"
   ]
  },
  {
   "cell_type": "code",
   "execution_count": 138,
   "metadata": {},
   "outputs": [],
   "source": [
    "# line1,line2 = plt.plot (\n",
    "#           ['Logistic Regression', 'XGBClassifier', 'Random Forest','LinearSVC','KNN'],org_score ,'--o'\n",
    "#          ,['Logistic Regression', 'XGBClassifier', 'Random Forest','LinearSVC','KNN'], smote_scores,'--d'\n",
    "#          ,alpha=0.7)\n",
    "# plt.legend((line1,line2), \n",
    "#            ('Normal Training Data', 'SMOTE applied Training Data'))\n",
    "# plt.annotate('Highest: 73.10', ['XGBClassifier', 73.10])\n",
    "# plt.title(\"Model Evaluation\")\n",
    "# plt.ylabel('F1 score')\n",
    "# plt.xlabel('Models')\n",
    "# plt.show()"
   ]
  },
  {
   "cell_type": "markdown",
   "metadata": {},
   "source": [
    "We see here that the model 'XGBoost-Classsifier' obtains the highest score in classifying whether a business will close or not."
   ]
  },
  {
   "cell_type": "code",
   "execution_count": 139,
   "metadata": {},
   "outputs": [
    {
     "data": {
      "image/png": "[encoded data removed]",
      "text/plain": [
       "<Figure size 432x288 with 1 Axes>"
      ]
     },
     "metadata": {
      "needs_background": "light"
     },
     "output_type": "display_data"
    }
   ],
   "source": [
    "line1,line2 = plt.plot (\n",
    "          ['Logistic Regression', 'XGBClassifier', 'Random Forest','LinearSVC','KNN'],f1_org ,'--o'\n",
    "         ,['Logistic Regression', 'XGBClassifier', 'Random Forest','LinearSVC','KNN'], f1_smote,'--d'\n",
    "         ,alpha=0.7)\n",
    "plt.legend((line1,line2), \n",
    "           ('Normal Training Data', 'SMOTE applied Training Data'))\n",
    "plt.annotate('Highest: 73.10', ['XGBClassifier', 73.10])\n",
    "plt.title(\"Model Evaluation\")\n",
    "plt.ylabel('F1 score')\n",
    "plt.xlabel('Models')\n",
    "plt.show()"
   ]
  },
  {
   "cell_type": "code",
   "execution_count": null,
   "metadata": {},
   "outputs": [],
   "source": []
  },
  {
   "cell_type": "code",
   "execution_count": null,
   "metadata": {},
   "outputs": [],
   "source": []
  }
 ],
 "metadata": {
  "kernelspec": {
   "display_name": "model2",
   "language": "python",
   "name": "model2"
  },
  "language_info": {
   "codemirror_mode": {
    "name": "ipython",
    "version": 3
   },
   "file_extension": ".py",
   "mimetype": "text/x-python",
   "name": "python",
   "nbconvert_exporter": "python",
   "pygments_lexer": "ipython3",
   "version": "3.7.1"
  }
 },
 "nbformat": 4,
 "nbformat_minor": 2
}
