{
 "cells": [
  {
   "cell_type": "code",
   "execution_count": 12,
   "metadata": {
    "scrolled": false
   },
   "outputs": [],
   "source": [
    "%%capture\n",
    "#capture and suppress (if no variable is used to capture) output of cell\n",
    "\n",
    "#command to run python script to convert JSON --> CSV\n",
    "%run json_to_csv_converter_2.py data/yelp_academic_dataset_business.json\n",
    "\n",
    "#need to change filenames to get csv files\n",
    "'''\n",
    "FILENAMES:\n",
    "yelp_academic_dataset_business\n",
    "yelp_academic_dataset_checkin\n",
    "yelp_academic_dataset_photo\n",
    "yelp_academic_dataset_review       4GB - DONE\n",
    "yelp_academic_dataset_tip          Done\n",
    "yelp_academic_dataset_user         2GB - DONE\n",
    "'''"
   ]
  }
 ],
 "metadata": {
  "kernelspec": {
   "display_name": "Python 3",
   "language": "python",
   "name": "python3"
  },
  "language_info": {
   "codemirror_mode": {
    "name": "ipython",
    "version": 3
   },
   "file_extension": ".py",
   "mimetype": "text/x-python",
   "name": "python",
   "nbconvert_exporter": "python",
   "pygments_lexer": "ipython3",
   "version": "3.7.1"
  }
 },
 "nbformat": 4,
 "nbformat_minor": 2
}
